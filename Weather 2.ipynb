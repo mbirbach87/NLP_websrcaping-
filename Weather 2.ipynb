{
 "cells": [
  {
   "cell_type": "code",
   "execution_count": 1,
   "metadata": {},
   "outputs": [],
   "source": [
    "import requests\n",
    "import json\n",
    "import time\n",
    "import pandas as pd"
   ]
  },
  {
   "cell_type": "code",
   "execution_count": 2,
   "metadata": {},
   "outputs": [],
   "source": [
    "URL = \"http://www.reddit.com/r/weather.json\""
   ]
  },
  {
   "cell_type": "code",
   "execution_count": 3,
   "metadata": {},
   "outputs": [],
   "source": [
    "res = requests.get(URL, headers={'User-agent': 'Marc Bot 0.1'})"
   ]
  },
  {
   "cell_type": "code",
   "execution_count": 4,
   "metadata": {},
   "outputs": [
    {
     "data": {
      "text/plain": [
       "200"
      ]
     },
     "execution_count": 4,
     "metadata": {},
     "output_type": "execute_result"
    }
   ],
   "source": [
    "res.status_code"
   ]
  },
  {
   "cell_type": "code",
   "execution_count": 5,
   "metadata": {},
   "outputs": [
    {
     "name": "stdout",
     "output_type": "stream",
     "text": [
      "Page 0: https://www.reddit.com/r/weather/top.json?t=all\n",
      "<Response [200]>\n",
      "Page 1: https://www.reddit.com/r/weather/top.json?t=all&after=t3_6vrhkz\n",
      "<Response [200]>\n",
      "Page 2: https://www.reddit.com/r/weather/top.json?t=all&after=t3_8nj4hh\n",
      "<Response [200]>\n",
      "Page 3: https://www.reddit.com/r/weather/top.json?t=all&after=t3_8o4bd5\n",
      "<Response [200]>\n",
      "Page 4: https://www.reddit.com/r/weather/top.json?t=all&after=t3_6yhe6u\n",
      "<Response [200]>\n",
      "Page 5: https://www.reddit.com/r/weather/top.json?t=all&after=t3_8wkoj3\n",
      "<Response [200]>\n",
      "Page 6: https://www.reddit.com/r/weather/top.json?t=all&after=t3_38oav6\n",
      "<Response [200]>\n",
      "Page 7: https://www.reddit.com/r/weather/top.json?t=all&after=t3_63ooao\n",
      "<Response [200]>\n",
      "Page 8: https://www.reddit.com/r/weather/top.json?t=all&after=t3_6yjr4p\n",
      "<Response [200]>\n",
      "Page 9: https://www.reddit.com/r/weather/top.json?t=all&after=t3_71as6i\n",
      "<Response [200]>\n",
      "Page 10: https://www.reddit.com/r/weather/top.json?t=all&after=t3_7rnik2\n",
      "<Response [200]>\n",
      "Page 11: https://www.reddit.com/r/weather/top.json?t=all&after=t3_8r45fi\n",
      "<Response [200]>\n",
      "Page 12: https://www.reddit.com/r/weather/top.json?t=all&after=t3_3ri6bi\n",
      "<Response [200]>\n",
      "Page 13: https://www.reddit.com/r/weather/top.json?t=all&after=t3_6efqfm\n",
      "<Response [200]>\n",
      "Page 14: https://www.reddit.com/r/weather/top.json?t=all&after=t3_33wxa2\n",
      "<Response [200]>\n",
      "Page 15: https://www.reddit.com/r/weather/top.json?t=all&after=t3_11rr2b\n",
      "<Response [200]>\n",
      "Page 16: https://www.reddit.com/r/weather/top.json?t=all&after=t3_8jnqar\n",
      "<Response [200]>\n",
      "Page 17: https://www.reddit.com/r/weather/top.json?t=all&after=t3_3nkrx5\n",
      "<Response [200]>\n",
      "Page 18: https://www.reddit.com/r/weather/top.json?t=all&after=t3_6ey0g8\n",
      "<Response [200]>\n",
      "Page 19: https://www.reddit.com/r/weather/top.json?t=all&after=t3_188lik\n",
      "<Response [200]>\n",
      "Page 20: https://www.reddit.com/r/weather/top.json?t=all&after=t3_7spz87\n",
      "<Response [200]>\n",
      "Page 21: https://www.reddit.com/r/weather/top.json?t=all&after=t3_358w0y\n",
      "<Response [200]>\n",
      "Page 22: https://www.reddit.com/r/weather/top.json?t=all&after=t3_56isv7\n",
      "<Response [200]>\n",
      "Page 23: https://www.reddit.com/r/weather/top.json?t=all&after=t3_96l8ev\n",
      "<Response [200]>\n",
      "Page 24: https://www.reddit.com/r/weather/top.json?t=all&after=t3_7jt7jy\n",
      "<Response [200]>\n",
      "Page 25: https://www.reddit.com/r/weather/top.json?t=all&after=t3_7r8owy\n",
      "<Response [200]>\n",
      "Page 26: https://www.reddit.com/r/weather/top.json?t=all&after=t3_2oegu7\n",
      "<Response [200]>\n",
      "Page 27: https://www.reddit.com/r/weather/top.json?t=all&after=t3_8scynz\n",
      "<Response [200]>\n",
      "Page 28: https://www.reddit.com/r/weather/top.json?t=all&after=t3_758mtj\n",
      "<Response [200]>\n",
      "Page 29: https://www.reddit.com/r/weather/top.json?t=all&after=t3_3yfgwr\n",
      "<Response [200]>\n",
      "Page 30: https://www.reddit.com/r/weather/top.json?t=all&after=t3_4c2sdx\n",
      "<Response [200]>\n",
      "Page 31: https://www.reddit.com/r/weather/top.json?t=all&after=t3_5ok63s\n",
      "<Response [200]>\n",
      "Page 32: https://www.reddit.com/r/weather/top.json?t=all&after=t3_6e6pmy\n",
      "<Response [200]>\n",
      "Page 33: https://www.reddit.com/r/weather/top.json?t=all&after=t3_5ymb42\n",
      "<Response [200]>\n",
      "Page 34: https://www.reddit.com/r/weather/top.json?t=all&after=t3_1eskz0\n",
      "<Response [200]>\n",
      "Page 35: https://www.reddit.com/r/weather/top.json?t=all&after=t3_3e4p67\n",
      "<Response [200]>\n",
      "Page 36: https://www.reddit.com/r/weather/top.json?t=all&after=t3_6z8ejc\n",
      "<Response [200]>\n",
      "Page 37: https://www.reddit.com/r/weather/top.json?t=all&after=t3_4d9n7h\n",
      "<Response [200]>\n",
      "Page 38: https://www.reddit.com/r/weather/top.json?t=all&after=t3_8wwjut\n",
      "<Response [200]>\n",
      "Page 39: https://www.reddit.com/r/weather/top.json?t=all&after=t3_2jm092\n",
      "<Response [200]>\n"
     ]
    }
   ],
   "source": [
    "posts = []\n",
    "url = 'https://www.reddit.com/r/weather/top.json?t=all'\n",
    "after = None\n",
    "\n",
    "#Step 1: build the loop and print URL\n",
    "for _ in range(40):\n",
    "    if after == None:\n",
    "        current_url = url\n",
    "    else:\n",
    "        current_url = url + '&after=' + after\n",
    "        \n",
    "    print(f'Page {_}:', current_url)\n",
    "    \n",
    "    \n",
    "    #Step 2a: make the requests and handle status code. Add time.sleep now (2.b)\n",
    "    res = requests.get(current_url, headers={'User-agent': 'Marc Bot 0.1'})\n",
    "\n",
    "    if res.status_code != 200:\n",
    "        print('Status error', res.status_code)\n",
    "        break\n",
    "    else:\n",
    "        print(res)\n",
    "\n",
    "        \n",
    "    #Step 3: Actually deal with the data   \n",
    "    current_dict = res.json()\n",
    "    current_posts = [p['data'] for p in current_dict['data']['children']]\n",
    "    posts.extend(current_posts)\n",
    "\n",
    "    after = current_dict['data']['after']\n",
    "\n",
    "    #Step 2b:\n",
    "    time.sleep(1)"
   ]
  },
  {
   "cell_type": "code",
   "execution_count": 6,
   "metadata": {},
   "outputs": [],
   "source": [
    "df = pd.DataFrame(posts)\n",
    "df.head()\n",
    "df = df[['title', 'ups', 'num_comments', 'subreddit_name_prefixed']]"
   ]
  },
  {
   "cell_type": "code",
   "execution_count": 7,
   "metadata": {},
   "outputs": [
    {
     "data": {
      "text/html": [
       "<div>\n",
       "<style scoped>\n",
       "    .dataframe tbody tr th:only-of-type {\n",
       "        vertical-align: middle;\n",
       "    }\n",
       "\n",
       "    .dataframe tbody tr th {\n",
       "        vertical-align: top;\n",
       "    }\n",
       "\n",
       "    .dataframe thead th {\n",
       "        text-align: right;\n",
       "    }\n",
       "</style>\n",
       "<table border=\"1\" class=\"dataframe\">\n",
       "  <thead>\n",
       "    <tr style=\"text-align: right;\">\n",
       "      <th></th>\n",
       "      <th>title</th>\n",
       "      <th>ups</th>\n",
       "      <th>num_comments</th>\n",
       "      <th>subreddit_name_prefixed</th>\n",
       "    </tr>\n",
       "  </thead>\n",
       "  <tbody>\n",
       "    <tr>\n",
       "      <th>0</th>\n",
       "      <td>Storm chasers are paying tribute to Bill Paxto...</td>\n",
       "      <td>1835</td>\n",
       "      <td>70</td>\n",
       "      <td>r/weather</td>\n",
       "    </tr>\n",
       "    <tr>\n",
       "      <th>1</th>\n",
       "      <td>I'm from Colima. I'm gonna try to post whateve...</td>\n",
       "      <td>1093</td>\n",
       "      <td>727</td>\n",
       "      <td>r/weather</td>\n",
       "    </tr>\n",
       "    <tr>\n",
       "      <th>2</th>\n",
       "      <td>The Weather Channel has the perfect response f...</td>\n",
       "      <td>913</td>\n",
       "      <td>78</td>\n",
       "      <td>r/weather</td>\n",
       "    </tr>\n",
       "    <tr>\n",
       "      <th>3</th>\n",
       "      <td>From someone in an area that never has tornado...</td>\n",
       "      <td>835</td>\n",
       "      <td>652</td>\n",
       "      <td>r/weather</td>\n",
       "    </tr>\n",
       "    <tr>\n",
       "      <th>4</th>\n",
       "      <td>Heard the sirens. Stepped out of my office. Th...</td>\n",
       "      <td>697</td>\n",
       "      <td>82</td>\n",
       "      <td>r/weather</td>\n",
       "    </tr>\n",
       "  </tbody>\n",
       "</table>\n",
       "</div>"
      ],
      "text/plain": [
       "                                               title   ups  num_comments  \\\n",
       "0  Storm chasers are paying tribute to Bill Paxto...  1835            70   \n",
       "1  I'm from Colima. I'm gonna try to post whateve...  1093           727   \n",
       "2  The Weather Channel has the perfect response f...   913            78   \n",
       "3  From someone in an area that never has tornado...   835           652   \n",
       "4  Heard the sirens. Stepped out of my office. Th...   697            82   \n",
       "\n",
       "  subreddit_name_prefixed  \n",
       "0               r/weather  \n",
       "1               r/weather  \n",
       "2               r/weather  \n",
       "3               r/weather  \n",
       "4               r/weather  "
      ]
     },
     "execution_count": 7,
     "metadata": {},
     "output_type": "execute_result"
    }
   ],
   "source": [
    "df.head()"
   ]
  },
  {
   "cell_type": "code",
   "execution_count": 8,
   "metadata": {},
   "outputs": [],
   "source": [
    "df.to_csv('./data_b.csv')"
   ]
  },
  {
   "cell_type": "code",
   "execution_count": null,
   "metadata": {},
   "outputs": [],
   "source": []
  }
 ],
 "metadata": {
  "kernelspec": {
   "display_name": "Python 3",
   "language": "python",
   "name": "python3"
  },
  "language_info": {
   "codemirror_mode": {
    "name": "ipython",
    "version": 3
   },
   "file_extension": ".py",
   "mimetype": "text/x-python",
   "name": "python",
   "nbconvert_exporter": "python",
   "pygments_lexer": "ipython3",
   "version": "3.6.5"
  }
 },
 "nbformat": 4,
 "nbformat_minor": 2
}
