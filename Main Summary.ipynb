{
 "cells": [
  {
   "cell_type": "markdown",
   "metadata": {},
   "source": [
    "## Load imports"
   ]
  },
  {
   "cell_type": "code",
   "execution_count": 1,
   "metadata": {},
   "outputs": [],
   "source": [
    "import requests\n",
    "import json\n",
    "import time\n",
    "import pandas as pd\n",
    "import seaborn as sns\n",
    "import numpy as np\n",
    "from sklearn.feature_extraction.text import TfidfVectorizer\n",
    "from sklearn.feature_extraction.text import CountVectorizer\n",
    "from sklearn.tree import DecisionTreeRegressor\n",
    "from sklearn.model_selection import train_test_split\n",
    "import matplotlib.pyplot as plt\n",
    "\n",
    "%matplotlib inline\n",
    "\n",
    "from sklearn.feature_extraction.text import CountVectorizer"
   ]
  },
  {
   "cell_type": "markdown",
   "metadata": {},
   "source": [
    "## Read in the data"
   ]
  },
  {
   "cell_type": "code",
   "execution_count": 2,
   "metadata": {},
   "outputs": [],
   "source": [
    "df_1 = pd.read_csv('data_a.csv')\n",
    "df_2 = pd.read_csv('data_b.csv')"
   ]
  },
  {
   "cell_type": "code",
   "execution_count": 105,
   "metadata": {},
   "outputs": [
    {
     "data": {
      "text/html": [
       "<div>\n",
       "<style scoped>\n",
       "    .dataframe tbody tr th:only-of-type {\n",
       "        vertical-align: middle;\n",
       "    }\n",
       "\n",
       "    .dataframe tbody tr th {\n",
       "        vertical-align: top;\n",
       "    }\n",
       "\n",
       "    .dataframe thead th {\n",
       "        text-align: right;\n",
       "    }\n",
       "</style>\n",
       "<table border=\"1\" class=\"dataframe\">\n",
       "  <thead>\n",
       "    <tr style=\"text-align: right;\">\n",
       "      <th></th>\n",
       "      <th>Unnamed: 0</th>\n",
       "      <th>title</th>\n",
       "      <th>ups</th>\n",
       "      <th>num_comments</th>\n",
       "      <th>subreddit_name_prefixed</th>\n",
       "    </tr>\n",
       "  </thead>\n",
       "  <tbody>\n",
       "    <tr>\n",
       "      <th>0</th>\n",
       "      <td>0</td>\n",
       "      <td>This old YouTube channel about stock analysis ...</td>\n",
       "      <td>1208</td>\n",
       "      <td>34</td>\n",
       "      <td>r/stocks</td>\n",
       "    </tr>\n",
       "    <tr>\n",
       "      <th>1</th>\n",
       "      <td>1</td>\n",
       "      <td>Facebook's put play from yesterday. Im 20, tim...</td>\n",
       "      <td>874</td>\n",
       "      <td>569</td>\n",
       "      <td>r/stocks</td>\n",
       "    </tr>\n",
       "    <tr>\n",
       "      <th>2</th>\n",
       "      <td>2</td>\n",
       "      <td>Would anyone be interested in an AMA from a re...</td>\n",
       "      <td>693</td>\n",
       "      <td>87</td>\n",
       "      <td>r/stocks</td>\n",
       "    </tr>\n",
       "    <tr>\n",
       "      <th>3</th>\n",
       "      <td>3</td>\n",
       "      <td>Don't worry guys</td>\n",
       "      <td>631</td>\n",
       "      <td>88</td>\n",
       "      <td>r/stocks</td>\n",
       "    </tr>\n",
       "    <tr>\n",
       "      <th>4</th>\n",
       "      <td>4</td>\n",
       "      <td>Tesla meets self-imposed deadline for Model 3,...</td>\n",
       "      <td>628</td>\n",
       "      <td>141</td>\n",
       "      <td>r/stocks</td>\n",
       "    </tr>\n",
       "  </tbody>\n",
       "</table>\n",
       "</div>"
      ],
      "text/plain": [
       "   Unnamed: 0                                              title   ups  \\\n",
       "0           0  This old YouTube channel about stock analysis ...  1208   \n",
       "1           1  Facebook's put play from yesterday. Im 20, tim...   874   \n",
       "2           2  Would anyone be interested in an AMA from a re...   693   \n",
       "3           3                                   Don't worry guys   631   \n",
       "4           4  Tesla meets self-imposed deadline for Model 3,...   628   \n",
       "\n",
       "   num_comments subreddit_name_prefixed  \n",
       "0            34                r/stocks  \n",
       "1           569                r/stocks  \n",
       "2            87                r/stocks  \n",
       "3            88                r/stocks  \n",
       "4           141                r/stocks  "
      ]
     },
     "execution_count": 105,
     "metadata": {},
     "output_type": "execute_result"
    }
   ],
   "source": [
    "df_1.head()\n"
   ]
  },
  {
   "cell_type": "code",
   "execution_count": 106,
   "metadata": {},
   "outputs": [
    {
     "data": {
      "text/html": [
       "<div>\n",
       "<style scoped>\n",
       "    .dataframe tbody tr th:only-of-type {\n",
       "        vertical-align: middle;\n",
       "    }\n",
       "\n",
       "    .dataframe tbody tr th {\n",
       "        vertical-align: top;\n",
       "    }\n",
       "\n",
       "    .dataframe thead th {\n",
       "        text-align: right;\n",
       "    }\n",
       "</style>\n",
       "<table border=\"1\" class=\"dataframe\">\n",
       "  <thead>\n",
       "    <tr style=\"text-align: right;\">\n",
       "      <th></th>\n",
       "      <th>Unnamed: 0</th>\n",
       "      <th>title</th>\n",
       "      <th>ups</th>\n",
       "      <th>num_comments</th>\n",
       "      <th>subreddit_name_prefixed</th>\n",
       "    </tr>\n",
       "  </thead>\n",
       "  <tbody>\n",
       "    <tr>\n",
       "      <th>0</th>\n",
       "      <td>0</td>\n",
       "      <td>Storm chasers are paying tribute to Bill Paxto...</td>\n",
       "      <td>1835</td>\n",
       "      <td>70</td>\n",
       "      <td>r/weather</td>\n",
       "    </tr>\n",
       "    <tr>\n",
       "      <th>1</th>\n",
       "      <td>1</td>\n",
       "      <td>I'm from Colima. I'm gonna try to post whateve...</td>\n",
       "      <td>1093</td>\n",
       "      <td>727</td>\n",
       "      <td>r/weather</td>\n",
       "    </tr>\n",
       "    <tr>\n",
       "      <th>2</th>\n",
       "      <td>2</td>\n",
       "      <td>The Weather Channel has the perfect response f...</td>\n",
       "      <td>913</td>\n",
       "      <td>78</td>\n",
       "      <td>r/weather</td>\n",
       "    </tr>\n",
       "    <tr>\n",
       "      <th>3</th>\n",
       "      <td>3</td>\n",
       "      <td>From someone in an area that never has tornado...</td>\n",
       "      <td>835</td>\n",
       "      <td>652</td>\n",
       "      <td>r/weather</td>\n",
       "    </tr>\n",
       "    <tr>\n",
       "      <th>4</th>\n",
       "      <td>4</td>\n",
       "      <td>Heard the sirens. Stepped out of my office. Th...</td>\n",
       "      <td>697</td>\n",
       "      <td>82</td>\n",
       "      <td>r/weather</td>\n",
       "    </tr>\n",
       "  </tbody>\n",
       "</table>\n",
       "</div>"
      ],
      "text/plain": [
       "   Unnamed: 0                                              title   ups  \\\n",
       "0           0  Storm chasers are paying tribute to Bill Paxto...  1835   \n",
       "1           1  I'm from Colima. I'm gonna try to post whateve...  1093   \n",
       "2           2  The Weather Channel has the perfect response f...   913   \n",
       "3           3  From someone in an area that never has tornado...   835   \n",
       "4           4  Heard the sirens. Stepped out of my office. Th...   697   \n",
       "\n",
       "   num_comments subreddit_name_prefixed  \n",
       "0            70               r/weather  \n",
       "1           727               r/weather  \n",
       "2            78               r/weather  \n",
       "3           652               r/weather  \n",
       "4            82               r/weather  "
      ]
     },
     "execution_count": 106,
     "metadata": {},
     "output_type": "execute_result"
    }
   ],
   "source": [
    "df_2.head()"
   ]
  },
  {
   "cell_type": "code",
   "execution_count": 5,
   "metadata": {},
   "outputs": [],
   "source": [
    "R = pd.concat([df_1,df_2], axis=0)"
   ]
  },
  {
   "cell_type": "code",
   "execution_count": 6,
   "metadata": {},
   "outputs": [
    {
     "data": {
      "text/html": [
       "<div>\n",
       "<style scoped>\n",
       "    .dataframe tbody tr th:only-of-type {\n",
       "        vertical-align: middle;\n",
       "    }\n",
       "\n",
       "    .dataframe tbody tr th {\n",
       "        vertical-align: top;\n",
       "    }\n",
       "\n",
       "    .dataframe thead th {\n",
       "        text-align: right;\n",
       "    }\n",
       "</style>\n",
       "<table border=\"1\" class=\"dataframe\">\n",
       "  <thead>\n",
       "    <tr style=\"text-align: right;\">\n",
       "      <th></th>\n",
       "      <th>Unnamed: 0</th>\n",
       "      <th>title</th>\n",
       "      <th>ups</th>\n",
       "      <th>num_comments</th>\n",
       "      <th>subreddit_name_prefixed</th>\n",
       "    </tr>\n",
       "  </thead>\n",
       "  <tbody>\n",
       "    <tr>\n",
       "      <th>0</th>\n",
       "      <td>0</td>\n",
       "      <td>This old YouTube channel about stock analysis ...</td>\n",
       "      <td>1208</td>\n",
       "      <td>34</td>\n",
       "      <td>r/stocks</td>\n",
       "    </tr>\n",
       "    <tr>\n",
       "      <th>1</th>\n",
       "      <td>1</td>\n",
       "      <td>Facebook's put play from yesterday. Im 20, tim...</td>\n",
       "      <td>874</td>\n",
       "      <td>569</td>\n",
       "      <td>r/stocks</td>\n",
       "    </tr>\n",
       "    <tr>\n",
       "      <th>2</th>\n",
       "      <td>2</td>\n",
       "      <td>Would anyone be interested in an AMA from a re...</td>\n",
       "      <td>693</td>\n",
       "      <td>87</td>\n",
       "      <td>r/stocks</td>\n",
       "    </tr>\n",
       "    <tr>\n",
       "      <th>3</th>\n",
       "      <td>3</td>\n",
       "      <td>Don't worry guys</td>\n",
       "      <td>631</td>\n",
       "      <td>88</td>\n",
       "      <td>r/stocks</td>\n",
       "    </tr>\n",
       "    <tr>\n",
       "      <th>4</th>\n",
       "      <td>4</td>\n",
       "      <td>Tesla meets self-imposed deadline for Model 3,...</td>\n",
       "      <td>628</td>\n",
       "      <td>141</td>\n",
       "      <td>r/stocks</td>\n",
       "    </tr>\n",
       "  </tbody>\n",
       "</table>\n",
       "</div>"
      ],
      "text/plain": [
       "   Unnamed: 0                                              title   ups  \\\n",
       "0           0  This old YouTube channel about stock analysis ...  1208   \n",
       "1           1  Facebook's put play from yesterday. Im 20, tim...   874   \n",
       "2           2  Would anyone be interested in an AMA from a re...   693   \n",
       "3           3                                   Don't worry guys   631   \n",
       "4           4  Tesla meets self-imposed deadline for Model 3,...   628   \n",
       "\n",
       "   num_comments subreddit_name_prefixed  \n",
       "0            34                r/stocks  \n",
       "1           569                r/stocks  \n",
       "2            87                r/stocks  \n",
       "3            88                r/stocks  \n",
       "4           141                r/stocks  "
      ]
     },
     "execution_count": 6,
     "metadata": {},
     "output_type": "execute_result"
    }
   ],
   "source": [
    "R.head()"
   ]
  },
  {
   "cell_type": "code",
   "execution_count": 7,
   "metadata": {},
   "outputs": [
    {
     "data": {
      "text/html": [
       "<div>\n",
       "<style scoped>\n",
       "    .dataframe tbody tr th:only-of-type {\n",
       "        vertical-align: middle;\n",
       "    }\n",
       "\n",
       "    .dataframe tbody tr th {\n",
       "        vertical-align: top;\n",
       "    }\n",
       "\n",
       "    .dataframe thead th {\n",
       "        text-align: right;\n",
       "    }\n",
       "</style>\n",
       "<table border=\"1\" class=\"dataframe\">\n",
       "  <thead>\n",
       "    <tr style=\"text-align: right;\">\n",
       "      <th></th>\n",
       "      <th>Unnamed: 0</th>\n",
       "      <th>title</th>\n",
       "      <th>ups</th>\n",
       "      <th>num_comments</th>\n",
       "      <th>subreddit_name_prefixed</th>\n",
       "    </tr>\n",
       "  </thead>\n",
       "  <tbody>\n",
       "    <tr>\n",
       "      <th>995</th>\n",
       "      <td>995</td>\n",
       "      <td>Caught a nice lightening strike last night in ...</td>\n",
       "      <td>89</td>\n",
       "      <td>9</td>\n",
       "      <td>r/weather</td>\n",
       "    </tr>\n",
       "    <tr>\n",
       "      <th>996</th>\n",
       "      <td>996</td>\n",
       "      <td>To put it simply... it is very cold</td>\n",
       "      <td>91</td>\n",
       "      <td>32</td>\n",
       "      <td>r/weather</td>\n",
       "    </tr>\n",
       "    <tr>\n",
       "      <th>997</th>\n",
       "      <td>997</td>\n",
       "      <td>This isn't the shot I was going for, but I thi...</td>\n",
       "      <td>90</td>\n",
       "      <td>2</td>\n",
       "      <td>r/weather</td>\n",
       "    </tr>\n",
       "    <tr>\n",
       "      <th>998</th>\n",
       "      <td>998</td>\n",
       "      <td>Welcome to Texas</td>\n",
       "      <td>92</td>\n",
       "      <td>9</td>\n",
       "      <td>r/weather</td>\n",
       "    </tr>\n",
       "    <tr>\n",
       "      <th>999</th>\n",
       "      <td>999</td>\n",
       "      <td>Supercell Sunset.</td>\n",
       "      <td>91</td>\n",
       "      <td>4</td>\n",
       "      <td>r/weather</td>\n",
       "    </tr>\n",
       "  </tbody>\n",
       "</table>\n",
       "</div>"
      ],
      "text/plain": [
       "     Unnamed: 0                                              title  ups  \\\n",
       "995         995  Caught a nice lightening strike last night in ...   89   \n",
       "996         996                To put it simply... it is very cold   91   \n",
       "997         997  This isn't the shot I was going for, but I thi...   90   \n",
       "998         998                                   Welcome to Texas   92   \n",
       "999         999                                  Supercell Sunset.   91   \n",
       "\n",
       "     num_comments subreddit_name_prefixed  \n",
       "995             9               r/weather  \n",
       "996            32               r/weather  \n",
       "997             2               r/weather  \n",
       "998             9               r/weather  \n",
       "999             4               r/weather  "
      ]
     },
     "execution_count": 7,
     "metadata": {},
     "output_type": "execute_result"
    }
   ],
   "source": [
    "R.tail()"
   ]
  },
  {
   "cell_type": "markdown",
   "metadata": {},
   "source": [
    "## Perform EDA"
   ]
  },
  {
   "cell_type": "code",
   "execution_count": 8,
   "metadata": {},
   "outputs": [
    {
     "name": "stdout",
     "output_type": "stream",
     "text": [
      "<class 'pandas.core.frame.DataFrame'>\n",
      "Int64Index: 2000 entries, 0 to 999\n",
      "Data columns (total 5 columns):\n",
      "Unnamed: 0                 2000 non-null int64\n",
      "title                      2000 non-null object\n",
      "ups                        2000 non-null int64\n",
      "num_comments               2000 non-null int64\n",
      "subreddit_name_prefixed    2000 non-null object\n",
      "dtypes: int64(3), object(2)\n",
      "memory usage: 93.8+ KB\n"
     ]
    }
   ],
   "source": [
    "R.info()"
   ]
  },
  {
   "cell_type": "code",
   "execution_count": 9,
   "metadata": {},
   "outputs": [
    {
     "data": {
      "text/plain": [
       "Unnamed: 0                 0\n",
       "title                      0\n",
       "ups                        0\n",
       "num_comments               0\n",
       "subreddit_name_prefixed    0\n",
       "dtype: int64"
      ]
     },
     "execution_count": 9,
     "metadata": {},
     "output_type": "execute_result"
    }
   ],
   "source": [
    "R.isnull().sum()"
   ]
  },
  {
   "cell_type": "code",
   "execution_count": 10,
   "metadata": {
    "scrolled": true
   },
   "outputs": [
    {
     "data": {
      "text/html": [
       "<div>\n",
       "<style scoped>\n",
       "    .dataframe tbody tr th:only-of-type {\n",
       "        vertical-align: middle;\n",
       "    }\n",
       "\n",
       "    .dataframe tbody tr th {\n",
       "        vertical-align: top;\n",
       "    }\n",
       "\n",
       "    .dataframe thead th {\n",
       "        text-align: right;\n",
       "    }\n",
       "</style>\n",
       "<table border=\"1\" class=\"dataframe\">\n",
       "  <thead>\n",
       "    <tr style=\"text-align: right;\">\n",
       "      <th></th>\n",
       "      <th>Unnamed: 0</th>\n",
       "      <th>ups</th>\n",
       "      <th>num_comments</th>\n",
       "    </tr>\n",
       "  </thead>\n",
       "  <tbody>\n",
       "    <tr>\n",
       "      <th>count</th>\n",
       "      <td>2000.000000</td>\n",
       "      <td>2000.000000</td>\n",
       "      <td>2000.000000</td>\n",
       "    </tr>\n",
       "    <tr>\n",
       "      <th>mean</th>\n",
       "      <td>499.500000</td>\n",
       "      <td>146.736000</td>\n",
       "      <td>49.460000</td>\n",
       "    </tr>\n",
       "    <tr>\n",
       "      <th>std</th>\n",
       "      <td>288.747186</td>\n",
       "      <td>101.447948</td>\n",
       "      <td>75.167796</td>\n",
       "    </tr>\n",
       "    <tr>\n",
       "      <th>min</th>\n",
       "      <td>0.000000</td>\n",
       "      <td>54.000000</td>\n",
       "      <td>0.000000</td>\n",
       "    </tr>\n",
       "    <tr>\n",
       "      <th>25%</th>\n",
       "      <td>249.750000</td>\n",
       "      <td>92.000000</td>\n",
       "      <td>11.000000</td>\n",
       "    </tr>\n",
       "    <tr>\n",
       "      <th>50%</th>\n",
       "      <td>499.500000</td>\n",
       "      <td>119.000000</td>\n",
       "      <td>26.000000</td>\n",
       "    </tr>\n",
       "    <tr>\n",
       "      <th>75%</th>\n",
       "      <td>749.250000</td>\n",
       "      <td>170.000000</td>\n",
       "      <td>61.000000</td>\n",
       "    </tr>\n",
       "    <tr>\n",
       "      <th>max</th>\n",
       "      <td>999.000000</td>\n",
       "      <td>1835.000000</td>\n",
       "      <td>1588.000000</td>\n",
       "    </tr>\n",
       "  </tbody>\n",
       "</table>\n",
       "</div>"
      ],
      "text/plain": [
       "        Unnamed: 0          ups  num_comments\n",
       "count  2000.000000  2000.000000   2000.000000\n",
       "mean    499.500000   146.736000     49.460000\n",
       "std     288.747186   101.447948     75.167796\n",
       "min       0.000000    54.000000      0.000000\n",
       "25%     249.750000    92.000000     11.000000\n",
       "50%     499.500000   119.000000     26.000000\n",
       "75%     749.250000   170.000000     61.000000\n",
       "max     999.000000  1835.000000   1588.000000"
      ]
     },
     "execution_count": 10,
     "metadata": {},
     "output_type": "execute_result"
    }
   ],
   "source": [
    "R.describe()"
   ]
  },
  {
   "cell_type": "code",
   "execution_count": 11,
   "metadata": {
    "scrolled": false
   },
   "outputs": [
    {
     "name": "stderr",
     "output_type": "stream",
     "text": [
      "/Users/marcbirbach/anaconda3/lib/python3.6/site-packages/matplotlib/axes/_axes.py:6462: UserWarning: The 'normed' kwarg is deprecated, and has been replaced by the 'density' kwarg.\n",
      "  warnings.warn(\"The 'normed' kwarg is deprecated, and has been \"\n"
     ]
    },
    {
     "data": {
      "text/plain": [
       "<matplotlib.axes._subplots.AxesSubplot at 0x1a1767c160>"
      ]
     },
     "execution_count": 11,
     "metadata": {},
     "output_type": "execute_result"
    },
    {
     "data": {
      "image/png": "[encoded data removed]",
      "text/plain": [
       "<Figure size 432x288 with 1 Axes>"
      ]
     },
     "metadata": {},
     "output_type": "display_data"
    }
   ],
   "source": [
    "sns.distplot(R['num_comments'])"
   ]
  },
  {
   "cell_type": "code",
   "execution_count": 82,
   "metadata": {},
   "outputs": [
    {
     "data": {
      "image/png": "[encoded data removed]",
      "text/plain": [
       "<Figure size 432x288 with 1 Axes>"
      ]
     },
     "metadata": {},
     "output_type": "display_data"
    }
   ],
   "source": [
    "plt.scatter(R['subreddit_name_prefixed'], R['num_comments'])\n",
    "plt.xlabel('subreddit_name_prefixed',fontsize='large')\n",
    "plt.ylabel('num_comments',fontsize='large')\n",
    "plt.title('Number of Comments per Post!', fontsize='large')\n",
    "plt.show()"
   ]
  },
  {
   "cell_type": "markdown",
   "metadata": {},
   "source": [
    "## NLP\n",
    "\n",
    "#### Use `CountVectorizer` or `TfidfVectorizer` from scikit-learn to create features from the thread titles and descriptions (NOTE: Not all threads have a description)\n",
    "- Examine using count or binary features in the model\n",
    "- Re-evaluate your models using these. Does this improve the model performance? \n",
    "- What text features are the most valuable? "
   ]
  },
  {
   "cell_type": "code",
   "execution_count": 22,
   "metadata": {},
   "outputs": [],
   "source": [
    "corpus = R['title']"
   ]
  },
  {
   "cell_type": "code",
   "execution_count": 23,
   "metadata": {
    "scrolled": true
   },
   "outputs": [
    {
     "data": {
      "text/plain": [
       "0      This old YouTube channel about stock analysis ...\n",
       "1      Facebook's put play from yesterday. Im 20, tim...\n",
       "2      Would anyone be interested in an AMA from a re...\n",
       "3                                       Don't worry guys\n",
       "4      Tesla meets self-imposed deadline for Model 3,...\n",
       "5      The stock market has gone 104 consecutive days...\n",
       "6      FB advertisers pulling out after $100 Billion ...\n",
       "7      American Airlines cancels 12bn worth of Airbus...\n",
       "8           Netflix to Begin Offering Games, Stock up 4%\n",
       "9      If you bought SPY at the first second of regul...\n",
       "10     Hi /r/stocks, I made a tool that allows you to...\n",
       "11     Jobs report is in! Unemployment down to 3.9% f...\n",
       "12     Snapchat popularity among millennials plummets...\n",
       "13     [8 months ago] \"My dad has $1.8 million dollar...\n",
       "14     I made a cheat sheet on how to analyze stocks ...\n",
       "15         This Youtube channel is criminally underrated\n",
       "16         Just bought $500,000 worth of EA. Here's why.\n",
       "17     What companies will benefit greatly if the FCC...\n",
       "18     Equifax used 'admin' as the login and password...\n",
       "19     Twitter Shares Plunge 17% as Monthly Users Dec...\n",
       "20     Remember the guy who bought $500k in AMD stock...\n",
       "21     Pro Tip: If you are not mentally and emotional...\n",
       "22     Are there any good YouTube channels that teach...\n",
       "23     How to find smaller companies with higher grow...\n",
       "24     I challenged myself to turn $1500 into $10,000...\n",
       "25     Python for Algorithmic Trading and Investing t...\n",
       "26     Tesla starts brutal review of contractors, fir...\n",
       "27     I created a spreadsheet that automates pulling...\n",
       "28     Can we stop calling it a correction every time...\n",
       "29              Drug Prices might drop because of Amazon\n",
       "                             ...                        \n",
       "970    Beautiful view from Pike's Peak, CO showing fa...\n",
       "971    Recent storms in TX - no more info - too beaut...\n",
       "972    Is it just me, or is The Weather Channel the w...\n",
       "973                        Cameron IL tornadic supercell\n",
       "974    Radar loop of Hurricane Gonzalo making landfal...\n",
       "975                                   escaping the storm\n",
       "976    This is a testament to why I tell people Dish ...\n",
       "977    Great Lakes ice coverage tops 90%, most since ...\n",
       "978    Witnessed an amazing lightning show with snow ...\n",
       "979     Personal plea from a NWS employee ahead of Sandy\n",
       "980    Montana Supercell (x-post r/pics) Credit to An...\n",
       "981    Woman writes open letter to The Weather Channe...\n",
       "982           Tropical Storm Kirk...someone had to do it\n",
       "983        Tornado east of Châlons-en-Champagne, France.\n",
       "984        Significant Tornado Damage in Clarksville, TN\n",
       "985    \"Waves crash over the lighthouse as storm Ophe...\n",
       "986    Stadium effect cloud structure inside the eye ...\n",
       "987    Weather balloon flyby courtesy of an A319 @ 38...\n",
       "988    Tornado spotted near Mt. Evans, Colorado. 11,0...\n",
       "989                        Storms in Arlington right now\n",
       "990            Took this tonight. Lightning scares me...\n",
       "991    Near all-time record temperatures expected in ...\n",
       "992    I have received 11 inches of rain in ~15 hours...\n",
       "993    Hico Supercell: \"This tornado warned supercell...\n",
       "994    Roughly 100 miles east of El Paso, TX thousand...\n",
       "995    Caught a nice lightening strike last night in ...\n",
       "996                  To put it simply... it is very cold\n",
       "997    This isn't the shot I was going for, but I thi...\n",
       "998                                     Welcome to Texas\n",
       "999                                    Supercell Sunset.\n",
       "Name: title, Length: 2000, dtype: object"
      ]
     },
     "execution_count": 23,
     "metadata": {},
     "output_type": "execute_result"
    }
   ],
   "source": [
    "corpus"
   ]
  },
  {
   "cell_type": "code",
   "execution_count": 68,
   "metadata": {},
   "outputs": [
    {
     "data": {
      "text/plain": [
       "count                                                  2000\n",
       "unique                                                 1994\n",
       "top       I'm a professional trader and will analyze any...\n",
       "freq                                                      3\n",
       "Name: title, dtype: object"
      ]
     },
     "execution_count": 68,
     "metadata": {},
     "output_type": "execute_result"
    }
   ],
   "source": [
    "corpus.describe()"
   ]
  },
  {
   "cell_type": "code",
   "execution_count": 24,
   "metadata": {},
   "outputs": [],
   "source": [
    "X = R['title']\n",
    "y = R['subreddit_name_prefixed']\n",
    "X_train, X_test, y_train, y_test = train_test_split(X, y, test_size=0.3, random_state=42)"
   ]
  },
  {
   "cell_type": "code",
   "execution_count": 25,
   "metadata": {},
   "outputs": [],
   "source": [
    "cvec = CountVectorizer(stop_words='english', max_features=100)\n",
    "tvec = TfidfVectorizer(stop_words='english', max_features=100)"
   ]
  },
  {
   "cell_type": "code",
   "execution_count": 36,
   "metadata": {},
   "outputs": [],
   "source": [
    "cvecdata_train = cvec.fit_transform(X_train)\n",
    "cvec_df_train  = pd.DataFrame(cvecdata_train.todense(),\n",
    "             columns=cvec.get_feature_names(),\n",
    "                       index=X_train.index)\n",
    "\n",
    "cvecdata_test = cvec.transform(X_test)\n",
    "cvec_df_test  = pd.DataFrame(cvecdata_test.todense(),\n",
    "             columns=cvec.get_feature_names(),\n",
    "                       index=X_test.index)"
   ]
  },
  {
   "cell_type": "code",
   "execution_count": 33,
   "metadata": {},
   "outputs": [
    {
     "data": {
      "text/html": [
       "<div>\n",
       "<style scoped>\n",
       "    .dataframe tbody tr th:only-of-type {\n",
       "        vertical-align: middle;\n",
       "    }\n",
       "\n",
       "    .dataframe tbody tr th {\n",
       "        vertical-align: top;\n",
       "    }\n",
       "\n",
       "    .dataframe thead th {\n",
       "        text-align: right;\n",
       "    }\n",
       "</style>\n",
       "<table border=\"1\" class=\"dataframe\">\n",
       "  <thead>\n",
       "    <tr style=\"text-align: right;\">\n",
       "      <th></th>\n",
       "      <th>000</th>\n",
       "      <th>10</th>\n",
       "      <th>11</th>\n",
       "      <th>15</th>\n",
       "      <th>17</th>\n",
       "      <th>18</th>\n",
       "      <th>20</th>\n",
       "      <th>2017</th>\n",
       "      <th>2018</th>\n",
       "      <th>30</th>\n",
       "      <th>...</th>\n",
       "      <th>tx</th>\n",
       "      <th>ve</th>\n",
       "      <th>video</th>\n",
       "      <th>vs</th>\n",
       "      <th>weather</th>\n",
       "      <th>week</th>\n",
       "      <th>worth</th>\n",
       "      <th>year</th>\n",
       "      <th>years</th>\n",
       "      <th>yesterday</th>\n",
       "    </tr>\n",
       "  </thead>\n",
       "  <tbody>\n",
       "    <tr>\n",
       "      <th>836</th>\n",
       "      <td>0</td>\n",
       "      <td>0</td>\n",
       "      <td>0</td>\n",
       "      <td>0</td>\n",
       "      <td>0</td>\n",
       "      <td>0</td>\n",
       "      <td>0</td>\n",
       "      <td>0</td>\n",
       "      <td>0</td>\n",
       "      <td>0</td>\n",
       "      <td>...</td>\n",
       "      <td>0</td>\n",
       "      <td>0</td>\n",
       "      <td>0</td>\n",
       "      <td>0</td>\n",
       "      <td>0</td>\n",
       "      <td>0</td>\n",
       "      <td>0</td>\n",
       "      <td>0</td>\n",
       "      <td>0</td>\n",
       "      <td>0</td>\n",
       "    </tr>\n",
       "    <tr>\n",
       "      <th>575</th>\n",
       "      <td>0</td>\n",
       "      <td>0</td>\n",
       "      <td>0</td>\n",
       "      <td>0</td>\n",
       "      <td>0</td>\n",
       "      <td>0</td>\n",
       "      <td>0</td>\n",
       "      <td>0</td>\n",
       "      <td>0</td>\n",
       "      <td>0</td>\n",
       "      <td>...</td>\n",
       "      <td>0</td>\n",
       "      <td>0</td>\n",
       "      <td>0</td>\n",
       "      <td>0</td>\n",
       "      <td>0</td>\n",
       "      <td>0</td>\n",
       "      <td>0</td>\n",
       "      <td>0</td>\n",
       "      <td>0</td>\n",
       "      <td>0</td>\n",
       "    </tr>\n",
       "    <tr>\n",
       "      <th>557</th>\n",
       "      <td>0</td>\n",
       "      <td>0</td>\n",
       "      <td>0</td>\n",
       "      <td>0</td>\n",
       "      <td>0</td>\n",
       "      <td>0</td>\n",
       "      <td>0</td>\n",
       "      <td>0</td>\n",
       "      <td>0</td>\n",
       "      <td>0</td>\n",
       "      <td>...</td>\n",
       "      <td>0</td>\n",
       "      <td>0</td>\n",
       "      <td>0</td>\n",
       "      <td>0</td>\n",
       "      <td>0</td>\n",
       "      <td>0</td>\n",
       "      <td>0</td>\n",
       "      <td>0</td>\n",
       "      <td>0</td>\n",
       "      <td>0</td>\n",
       "    </tr>\n",
       "    <tr>\n",
       "      <th>235</th>\n",
       "      <td>0</td>\n",
       "      <td>0</td>\n",
       "      <td>0</td>\n",
       "      <td>0</td>\n",
       "      <td>0</td>\n",
       "      <td>0</td>\n",
       "      <td>0</td>\n",
       "      <td>0</td>\n",
       "      <td>0</td>\n",
       "      <td>0</td>\n",
       "      <td>...</td>\n",
       "      <td>0</td>\n",
       "      <td>0</td>\n",
       "      <td>0</td>\n",
       "      <td>0</td>\n",
       "      <td>0</td>\n",
       "      <td>0</td>\n",
       "      <td>0</td>\n",
       "      <td>0</td>\n",
       "      <td>0</td>\n",
       "      <td>0</td>\n",
       "    </tr>\n",
       "    <tr>\n",
       "      <th>360</th>\n",
       "      <td>0</td>\n",
       "      <td>0</td>\n",
       "      <td>0</td>\n",
       "      <td>0</td>\n",
       "      <td>0</td>\n",
       "      <td>0</td>\n",
       "      <td>0</td>\n",
       "      <td>0</td>\n",
       "      <td>0</td>\n",
       "      <td>0</td>\n",
       "      <td>...</td>\n",
       "      <td>0</td>\n",
       "      <td>0</td>\n",
       "      <td>0</td>\n",
       "      <td>0</td>\n",
       "      <td>0</td>\n",
       "      <td>0</td>\n",
       "      <td>0</td>\n",
       "      <td>0</td>\n",
       "      <td>0</td>\n",
       "      <td>0</td>\n",
       "    </tr>\n",
       "  </tbody>\n",
       "</table>\n",
       "<p>5 rows × 100 columns</p>\n",
       "</div>"
      ],
      "text/plain": [
       "     000  10  11  15  17  18  20  2017  2018  30    ...      tx  ve  video  \\\n",
       "836    0   0   0   0   0   0   0     0     0   0    ...       0   0      0   \n",
       "575    0   0   0   0   0   0   0     0     0   0    ...       0   0      0   \n",
       "557    0   0   0   0   0   0   0     0     0   0    ...       0   0      0   \n",
       "235    0   0   0   0   0   0   0     0     0   0    ...       0   0      0   \n",
       "360    0   0   0   0   0   0   0     0     0   0    ...       0   0      0   \n",
       "\n",
       "     vs  weather  week  worth  year  years  yesterday  \n",
       "836   0        0     0      0     0      0          0  \n",
       "575   0        0     0      0     0      0          0  \n",
       "557   0        0     0      0     0      0          0  \n",
       "235   0        0     0      0     0      0          0  \n",
       "360   0        0     0      0     0      0          0  \n",
       "\n",
       "[5 rows x 100 columns]"
      ]
     },
     "execution_count": 33,
     "metadata": {},
     "output_type": "execute_result"
    }
   ],
   "source": [
    "cvec_df_train.head()"
   ]
  },
  {
   "cell_type": "code",
   "execution_count": 34,
   "metadata": {},
   "outputs": [],
   "source": [
    "tvecdata_train = tvec.fit_transform(X_train)\n",
    "tvec_df_train  = pd.DataFrame(tvecdata.todense(),\n",
    "                   columns=tvec.get_feature_names(),\n",
    "                   index=X_train.index)\n",
    "\n",
    "tvecdata_test = tvec.transform(X_test)\n",
    "tvec_df_test  = pd.DataFrame(tvecdata_test.todense(),\n",
    "             columns=tvec.get_feature_names(),\n",
    "                       index=X_test.index)"
   ]
  },
  {
   "cell_type": "code",
   "execution_count": 35,
   "metadata": {
    "scrolled": true
   },
   "outputs": [
    {
     "data": {
      "text/html": [
       "<div>\n",
       "<style scoped>\n",
       "    .dataframe tbody tr th:only-of-type {\n",
       "        vertical-align: middle;\n",
       "    }\n",
       "\n",
       "    .dataframe tbody tr th {\n",
       "        vertical-align: top;\n",
       "    }\n",
       "\n",
       "    .dataframe thead th {\n",
       "        text-align: right;\n",
       "    }\n",
       "</style>\n",
       "<table border=\"1\" class=\"dataframe\">\n",
       "  <thead>\n",
       "    <tr style=\"text-align: right;\">\n",
       "      <th></th>\n",
       "      <th>000</th>\n",
       "      <th>10</th>\n",
       "      <th>11</th>\n",
       "      <th>15</th>\n",
       "      <th>17</th>\n",
       "      <th>18</th>\n",
       "      <th>20</th>\n",
       "      <th>2017</th>\n",
       "      <th>2018</th>\n",
       "      <th>30</th>\n",
       "      <th>...</th>\n",
       "      <th>tx</th>\n",
       "      <th>ve</th>\n",
       "      <th>video</th>\n",
       "      <th>vs</th>\n",
       "      <th>weather</th>\n",
       "      <th>week</th>\n",
       "      <th>worth</th>\n",
       "      <th>year</th>\n",
       "      <th>years</th>\n",
       "      <th>yesterday</th>\n",
       "    </tr>\n",
       "  </thead>\n",
       "  <tbody>\n",
       "    <tr>\n",
       "      <th>836</th>\n",
       "      <td>0.0</td>\n",
       "      <td>0.0</td>\n",
       "      <td>0.0</td>\n",
       "      <td>0.0</td>\n",
       "      <td>0.0</td>\n",
       "      <td>0.0</td>\n",
       "      <td>0.0</td>\n",
       "      <td>0.0</td>\n",
       "      <td>0.0</td>\n",
       "      <td>0.0</td>\n",
       "      <td>...</td>\n",
       "      <td>0.0</td>\n",
       "      <td>0.0</td>\n",
       "      <td>0.0</td>\n",
       "      <td>0.0</td>\n",
       "      <td>0.0</td>\n",
       "      <td>0.0</td>\n",
       "      <td>0.0</td>\n",
       "      <td>0.0</td>\n",
       "      <td>0.0</td>\n",
       "      <td>0.000000</td>\n",
       "    </tr>\n",
       "    <tr>\n",
       "      <th>575</th>\n",
       "      <td>0.0</td>\n",
       "      <td>0.0</td>\n",
       "      <td>0.0</td>\n",
       "      <td>0.0</td>\n",
       "      <td>0.0</td>\n",
       "      <td>0.0</td>\n",
       "      <td>0.0</td>\n",
       "      <td>0.0</td>\n",
       "      <td>0.0</td>\n",
       "      <td>0.0</td>\n",
       "      <td>...</td>\n",
       "      <td>0.0</td>\n",
       "      <td>0.0</td>\n",
       "      <td>0.0</td>\n",
       "      <td>0.0</td>\n",
       "      <td>0.0</td>\n",
       "      <td>0.0</td>\n",
       "      <td>0.0</td>\n",
       "      <td>0.0</td>\n",
       "      <td>0.0</td>\n",
       "      <td>0.000000</td>\n",
       "    </tr>\n",
       "    <tr>\n",
       "      <th>557</th>\n",
       "      <td>0.0</td>\n",
       "      <td>0.0</td>\n",
       "      <td>0.0</td>\n",
       "      <td>0.0</td>\n",
       "      <td>0.0</td>\n",
       "      <td>0.0</td>\n",
       "      <td>0.0</td>\n",
       "      <td>0.0</td>\n",
       "      <td>0.0</td>\n",
       "      <td>0.0</td>\n",
       "      <td>...</td>\n",
       "      <td>0.0</td>\n",
       "      <td>0.0</td>\n",
       "      <td>0.0</td>\n",
       "      <td>0.0</td>\n",
       "      <td>0.0</td>\n",
       "      <td>0.0</td>\n",
       "      <td>0.0</td>\n",
       "      <td>0.0</td>\n",
       "      <td>0.0</td>\n",
       "      <td>0.000000</td>\n",
       "    </tr>\n",
       "    <tr>\n",
       "      <th>235</th>\n",
       "      <td>0.0</td>\n",
       "      <td>0.0</td>\n",
       "      <td>0.0</td>\n",
       "      <td>0.0</td>\n",
       "      <td>0.0</td>\n",
       "      <td>0.0</td>\n",
       "      <td>0.0</td>\n",
       "      <td>0.0</td>\n",
       "      <td>0.0</td>\n",
       "      <td>0.0</td>\n",
       "      <td>...</td>\n",
       "      <td>0.0</td>\n",
       "      <td>0.0</td>\n",
       "      <td>0.0</td>\n",
       "      <td>0.0</td>\n",
       "      <td>0.0</td>\n",
       "      <td>0.0</td>\n",
       "      <td>0.0</td>\n",
       "      <td>0.0</td>\n",
       "      <td>0.0</td>\n",
       "      <td>0.000000</td>\n",
       "    </tr>\n",
       "    <tr>\n",
       "      <th>360</th>\n",
       "      <td>0.0</td>\n",
       "      <td>0.0</td>\n",
       "      <td>0.0</td>\n",
       "      <td>0.0</td>\n",
       "      <td>0.0</td>\n",
       "      <td>0.0</td>\n",
       "      <td>0.0</td>\n",
       "      <td>0.0</td>\n",
       "      <td>0.0</td>\n",
       "      <td>0.0</td>\n",
       "      <td>...</td>\n",
       "      <td>0.0</td>\n",
       "      <td>0.0</td>\n",
       "      <td>0.0</td>\n",
       "      <td>0.0</td>\n",
       "      <td>0.0</td>\n",
       "      <td>0.0</td>\n",
       "      <td>0.0</td>\n",
       "      <td>0.0</td>\n",
       "      <td>0.0</td>\n",
       "      <td>0.000000</td>\n",
       "    </tr>\n",
       "    <tr>\n",
       "      <th>347</th>\n",
       "      <td>0.0</td>\n",
       "      <td>0.0</td>\n",
       "      <td>0.0</td>\n",
       "      <td>0.0</td>\n",
       "      <td>0.0</td>\n",
       "      <td>0.0</td>\n",
       "      <td>0.0</td>\n",
       "      <td>0.0</td>\n",
       "      <td>0.0</td>\n",
       "      <td>0.0</td>\n",
       "      <td>...</td>\n",
       "      <td>0.0</td>\n",
       "      <td>0.0</td>\n",
       "      <td>0.0</td>\n",
       "      <td>0.0</td>\n",
       "      <td>0.0</td>\n",
       "      <td>0.0</td>\n",
       "      <td>0.0</td>\n",
       "      <td>0.0</td>\n",
       "      <td>0.0</td>\n",
       "      <td>0.000000</td>\n",
       "    </tr>\n",
       "    <tr>\n",
       "      <th>161</th>\n",
       "      <td>0.0</td>\n",
       "      <td>0.0</td>\n",
       "      <td>0.0</td>\n",
       "      <td>0.0</td>\n",
       "      <td>0.0</td>\n",
       "      <td>0.0</td>\n",
       "      <td>0.0</td>\n",
       "      <td>0.0</td>\n",
       "      <td>0.0</td>\n",
       "      <td>0.0</td>\n",
       "      <td>...</td>\n",
       "      <td>0.0</td>\n",
       "      <td>0.0</td>\n",
       "      <td>0.0</td>\n",
       "      <td>0.0</td>\n",
       "      <td>0.0</td>\n",
       "      <td>0.0</td>\n",
       "      <td>0.0</td>\n",
       "      <td>0.0</td>\n",
       "      <td>0.0</td>\n",
       "      <td>0.000000</td>\n",
       "    </tr>\n",
       "    <tr>\n",
       "      <th>442</th>\n",
       "      <td>0.0</td>\n",
       "      <td>0.0</td>\n",
       "      <td>0.0</td>\n",
       "      <td>0.0</td>\n",
       "      <td>0.0</td>\n",
       "      <td>0.0</td>\n",
       "      <td>0.0</td>\n",
       "      <td>0.0</td>\n",
       "      <td>0.0</td>\n",
       "      <td>0.0</td>\n",
       "      <td>...</td>\n",
       "      <td>0.0</td>\n",
       "      <td>0.0</td>\n",
       "      <td>0.0</td>\n",
       "      <td>0.0</td>\n",
       "      <td>0.0</td>\n",
       "      <td>0.0</td>\n",
       "      <td>0.0</td>\n",
       "      <td>0.0</td>\n",
       "      <td>0.0</td>\n",
       "      <td>0.000000</td>\n",
       "    </tr>\n",
       "    <tr>\n",
       "      <th>286</th>\n",
       "      <td>0.0</td>\n",
       "      <td>0.0</td>\n",
       "      <td>0.0</td>\n",
       "      <td>0.0</td>\n",
       "      <td>0.0</td>\n",
       "      <td>0.0</td>\n",
       "      <td>0.0</td>\n",
       "      <td>0.0</td>\n",
       "      <td>0.0</td>\n",
       "      <td>0.0</td>\n",
       "      <td>...</td>\n",
       "      <td>0.0</td>\n",
       "      <td>0.0</td>\n",
       "      <td>0.0</td>\n",
       "      <td>0.0</td>\n",
       "      <td>0.0</td>\n",
       "      <td>0.0</td>\n",
       "      <td>0.0</td>\n",
       "      <td>0.0</td>\n",
       "      <td>0.0</td>\n",
       "      <td>0.000000</td>\n",
       "    </tr>\n",
       "    <tr>\n",
       "      <th>604</th>\n",
       "      <td>0.0</td>\n",
       "      <td>0.0</td>\n",
       "      <td>0.0</td>\n",
       "      <td>0.0</td>\n",
       "      <td>0.0</td>\n",
       "      <td>0.0</td>\n",
       "      <td>0.0</td>\n",
       "      <td>0.0</td>\n",
       "      <td>0.0</td>\n",
       "      <td>0.0</td>\n",
       "      <td>...</td>\n",
       "      <td>0.0</td>\n",
       "      <td>0.0</td>\n",
       "      <td>0.0</td>\n",
       "      <td>0.0</td>\n",
       "      <td>0.0</td>\n",
       "      <td>0.0</td>\n",
       "      <td>0.0</td>\n",
       "      <td>0.0</td>\n",
       "      <td>0.0</td>\n",
       "      <td>0.582868</td>\n",
       "    </tr>\n",
       "  </tbody>\n",
       "</table>\n",
       "<p>10 rows × 100 columns</p>\n",
       "</div>"
      ],
      "text/plain": [
       "     000   10   11   15   17   18   20  2017  2018   30    ...       tx   ve  \\\n",
       "836  0.0  0.0  0.0  0.0  0.0  0.0  0.0   0.0   0.0  0.0    ...      0.0  0.0   \n",
       "575  0.0  0.0  0.0  0.0  0.0  0.0  0.0   0.0   0.0  0.0    ...      0.0  0.0   \n",
       "557  0.0  0.0  0.0  0.0  0.0  0.0  0.0   0.0   0.0  0.0    ...      0.0  0.0   \n",
       "235  0.0  0.0  0.0  0.0  0.0  0.0  0.0   0.0   0.0  0.0    ...      0.0  0.0   \n",
       "360  0.0  0.0  0.0  0.0  0.0  0.0  0.0   0.0   0.0  0.0    ...      0.0  0.0   \n",
       "347  0.0  0.0  0.0  0.0  0.0  0.0  0.0   0.0   0.0  0.0    ...      0.0  0.0   \n",
       "161  0.0  0.0  0.0  0.0  0.0  0.0  0.0   0.0   0.0  0.0    ...      0.0  0.0   \n",
       "442  0.0  0.0  0.0  0.0  0.0  0.0  0.0   0.0   0.0  0.0    ...      0.0  0.0   \n",
       "286  0.0  0.0  0.0  0.0  0.0  0.0  0.0   0.0   0.0  0.0    ...      0.0  0.0   \n",
       "604  0.0  0.0  0.0  0.0  0.0  0.0  0.0   0.0   0.0  0.0    ...      0.0  0.0   \n",
       "\n",
       "     video   vs  weather  week  worth  year  years  yesterday  \n",
       "836    0.0  0.0      0.0   0.0    0.0   0.0    0.0   0.000000  \n",
       "575    0.0  0.0      0.0   0.0    0.0   0.0    0.0   0.000000  \n",
       "557    0.0  0.0      0.0   0.0    0.0   0.0    0.0   0.000000  \n",
       "235    0.0  0.0      0.0   0.0    0.0   0.0    0.0   0.000000  \n",
       "360    0.0  0.0      0.0   0.0    0.0   0.0    0.0   0.000000  \n",
       "347    0.0  0.0      0.0   0.0    0.0   0.0    0.0   0.000000  \n",
       "161    0.0  0.0      0.0   0.0    0.0   0.0    0.0   0.000000  \n",
       "442    0.0  0.0      0.0   0.0    0.0   0.0    0.0   0.000000  \n",
       "286    0.0  0.0      0.0   0.0    0.0   0.0    0.0   0.000000  \n",
       "604    0.0  0.0      0.0   0.0    0.0   0.0    0.0   0.582868  \n",
       "\n",
       "[10 rows x 100 columns]"
      ]
     },
     "execution_count": 35,
     "metadata": {},
     "output_type": "execute_result"
    }
   ],
   "source": [
    "tvec_df_train.head(10)"
   ]
  },
  {
   "cell_type": "code",
   "execution_count": 110,
   "metadata": {
    "scrolled": true
   },
   "outputs": [
    {
     "data": {
      "text/plain": [
       "Counter({1: 10, 0: 590})"
      ]
     },
     "execution_count": 110,
     "metadata": {},
     "output_type": "execute_result"
    }
   ],
   "source": [
    "Counter(cvec_df_test['000'])"
   ]
  },
  {
   "cell_type": "code",
   "execution_count": 125,
   "metadata": {
    "scrolled": false
   },
   "outputs": [
    {
     "data": {
      "text/plain": [
       "stock        56\n",
       "stocks       45\n",
       "tornado      39\n",
       "storm        38\n",
       "just         25\n",
       "weather      25\n",
       "market       21\n",
       "new          20\n",
       "today        20\n",
       "hurricane    17\n",
       "time         17\n",
       "texas        16\n",
       "supercell    15\n",
       "buy          15\n",
       "snow         15\n",
       "years        15\n",
       "earnings     15\n",
       "clouds       14\n",
       "day          14\n",
       "like         13\n",
       "yesterday    12\n",
       "cloud        12\n",
       "amp          12\n",
       "week         12\n",
       "right        12\n",
       "dtype: int64"
      ]
     },
     "execution_count": 125,
     "metadata": {},
     "output_type": "execute_result"
    }
   ],
   "source": [
    "word_counts = cvec_df_test.sum(axis=0)\n",
    "word_counts.sort_values(ascending = False).head(25)"
   ]
  },
  {
   "cell_type": "markdown",
   "metadata": {},
   "source": [
    "# RandomForestClassifier"
   ]
  },
  {
   "cell_type": "code",
   "execution_count": null,
   "metadata": {},
   "outputs": [],
   "source": []
  },
  {
   "cell_type": "code",
   "execution_count": 40,
   "metadata": {},
   "outputs": [],
   "source": [
    "from sklearn.model_selection import cross_val_score, StratifiedKFold\n",
    "from sklearn.ensemble import RandomForestClassifier, ExtraTreesClassifier, BaggingClassifier\n",
    "from sklearn.ensemble import RandomForestRegressor"
   ]
  },
  {
   "cell_type": "code",
   "execution_count": 44,
   "metadata": {},
   "outputs": [
    {
     "data": {
      "text/plain": [
       "0.7716666666666666"
      ]
     },
     "execution_count": 44,
     "metadata": {},
     "output_type": "execute_result"
    }
   ],
   "source": [
    "forest = RandomForestClassifier(max_depth = 10, n_estimators=5, random_state=42)\n",
    "forest.fit(cvec_df_train, y_train)\n",
    "forest.score(cvec_df_test, y_test)"
   ]
  },
  {
   "cell_type": "code",
   "execution_count": 45,
   "metadata": {},
   "outputs": [
    {
     "data": {
      "text/plain": [
       "0.8435682054204078"
      ]
     },
     "execution_count": 45,
     "metadata": {},
     "output_type": "execute_result"
    }
   ],
   "source": [
    "rf= RandomForestClassifier()\n",
    "cross_val_score(rf, cvec_df_train, y_train).mean()"
   ]
  },
  {
   "cell_type": "markdown",
   "metadata": {},
   "source": [
    "# LogisticRegression"
   ]
  },
  {
   "cell_type": "code",
   "execution_count": 57,
   "metadata": {},
   "outputs": [],
   "source": [
    "from sklearn.linear_model import LogisticRegression"
   ]
  },
  {
   "cell_type": "code",
   "execution_count": 59,
   "metadata": {},
   "outputs": [
    {
     "data": {
      "text/plain": [
       "LogisticRegression(C=1.0, class_weight=None, dual=False, fit_intercept=True,\n",
       "          intercept_scaling=1, max_iter=100, multi_class='ovr', n_jobs=1,\n",
       "          penalty='l2', random_state=None, solver='liblinear', tol=0.0001,\n",
       "          verbose=0, warm_start=False)"
      ]
     },
     "execution_count": 59,
     "metadata": {},
     "output_type": "execute_result"
    }
   ],
   "source": [
    "logreg= LogisticRegression()\n",
    "logreg.fit(tvec_df_train, y_train)"
   ]
  },
  {
   "cell_type": "code",
   "execution_count": 60,
   "metadata": {},
   "outputs": [],
   "source": [
    "from sklearn.model_selection import cross_val_score"
   ]
  },
  {
   "cell_type": "code",
   "execution_count": 62,
   "metadata": {},
   "outputs": [
    {
     "data": {
      "text/plain": [
       "array([0.82655246, 0.88008565, 0.84763948])"
      ]
     },
     "execution_count": 62,
     "metadata": {},
     "output_type": "execute_result"
    }
   ],
   "source": [
    "cross_val_score(logreg, tvec_df_train, y_train)"
   ]
  },
  {
   "cell_type": "code",
   "execution_count": null,
   "metadata": {},
   "outputs": [],
   "source": []
  }
 ],
 "metadata": {
  "kernelspec": {
   "display_name": "Python 3",
   "language": "python",
   "name": "python3"
  },
  "language_info": {
   "codemirror_mode": {
    "name": "ipython",
    "version": 3
   },
   "file_extension": ".py",
   "mimetype": "text/x-python",
   "name": "python",
   "nbconvert_exporter": "python",
   "pygments_lexer": "ipython3",
   "version": "3.6.5"
  }
 },
 "nbformat": 4,
 "nbformat_minor": 2
}
